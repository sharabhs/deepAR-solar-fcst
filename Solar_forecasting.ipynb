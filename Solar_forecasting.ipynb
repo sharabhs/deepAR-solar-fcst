{
 "cells": [
  {
   "cell_type": "code",
   "execution_count": 1,
   "metadata": {},
   "outputs": [],
   "source": [
    "import mxnet as mxt\n",
    "import gluonts\n",
    "import numpy as np\n",
    "import pandas as pd\n",
    "import os\n",
    "import json"
   ]
  },
  {
   "cell_type": "code",
   "execution_count": 2,
   "metadata": {},
   "outputs": [
    {
     "name": "stdout",
     "output_type": "stream",
     "text": [
      "mkdir: datasets: File exists\r\n"
     ]
    }
   ],
   "source": [
    "!mkdir datasets"
   ]
  },
  {
   "cell_type": "code",
   "execution_count": 3,
   "metadata": {},
   "outputs": [
    {
     "name": "stdout",
     "output_type": "stream",
     "text": [
      "total 194592\r\n",
      "drwxr-xr-x   6 sharabh_shukla  staff       192 Nov 11 03:24 \u001b[34m.\u001b[m\u001b[m\r\n",
      "drwxr-xr-x  22 sharabh_shukla  staff       704 Nov 11 03:24 \u001b[34m..\u001b[m\u001b[m\r\n",
      "drwxr-xr-x   3 sharabh_shukla  staff        96 Nov 11 03:24 \u001b[34m.ipynb_checkpoints\u001b[m\u001b[m\r\n",
      "-rw-r--r--   1 sharabh_shukla  staff  99603157 May 27 13:57 EMHIRESPV_TSh_CF_Country_19862015.xlsx\r\n",
      "-rw-r--r--   1 sharabh_shukla  staff     22417 Nov 11 03:24 Solar_forecasting.ipynb\r\n",
      "drwxr-xr-x   2 sharabh_shukla  staff        64 Nov 11 00:54 \u001b[34mdatasets\u001b[m\u001b[m\r\n"
     ]
    }
   ],
   "source": [
    "!ls -la"
   ]
  },
  {
   "cell_type": "code",
   "execution_count": 4,
   "metadata": {},
   "outputs": [
    {
     "name": "stdout",
     "output_type": "stream",
     "text": [
      "--2019-11-11 21:44:39--  https://setis.ec.europa.eu/sites/default/files/EMHIRES_DATA/Solar/EMHIRESPV_country_level.zip\n",
      "Resolving setis.ec.europa.eu (setis.ec.europa.eu)... 139.191.207.52\n",
      "Connecting to setis.ec.europa.eu (setis.ec.europa.eu)|139.191.207.52|:443... connected.\n",
      "HTTP request sent, awaiting response... 200 OK\n",
      "Length: 93401258 (89M) [application/zip]\n",
      "Saving to: ‘EMHIRESPV_country_level.zip’\n",
      "\n",
      "EMHIRESPV_country_l 100%[===================>]  89.07M  11.7MB/s    in 8.7s    \n",
      "\n",
      "2019-11-11 21:44:48 (10.3 MB/s) - ‘EMHIRESPV_country_level.zip’ saved [93401258/93401258]\n",
      "\n"
     ]
    }
   ],
   "source": [
    "!cd datasets\n",
    "!wget https://setis.ec.europa.eu/sites/default/files/EMHIRES_DATA/Solar/EMHIRESPV_country_level.zip"
   ]
  },
  {
   "cell_type": "code",
   "execution_count": 5,
   "metadata": {},
   "outputs": [
    {
     "name": "stdout",
     "output_type": "stream",
     "text": [
      "Archive:  EMHIRESPV_country_level.zip\n",
      "  inflating: EMHIRESPV_TSh_CF_Country_19862015.xlsx  \n"
     ]
    }
   ],
   "source": [
    "!unzip -o EMHIRESPV_country_level.zip"
   ]
  },
  {
   "cell_type": "code",
   "execution_count": 6,
   "metadata": {},
   "outputs": [],
   "source": [
    "!rm EMHIRESPV_country_level.zip"
   ]
  },
  {
   "cell_type": "code",
   "execution_count": null,
   "metadata": {},
   "outputs": [],
   "source": []
  },
  {
   "cell_type": "code",
   "execution_count": 7,
   "metadata": {},
   "outputs": [
    {
     "name": "stdout",
     "output_type": "stream",
     "text": [
      "CPU times: user 1min 39s, sys: 878 ms, total: 1min 40s\n",
      "Wall time: 1min 40s\n"
     ]
    }
   ],
   "source": [
    "%%time\n",
    "data_xlsx = pd.read_excel('EMHIRESPV_TSh_CF_Country_19862015.xlsx' )"
   ]
  },
  {
   "cell_type": "code",
   "execution_count": 8,
   "metadata": {},
   "outputs": [],
   "source": [
    "def process_time(df, freq='1H'):\n",
    "    \n",
    "    # Convert timestamp into a pandas datatime object\n",
    "    #df['Timestamp'] = pd.to_datetime(df['Timestamp'])\n",
    "    #df = df.set_index('Timestamp')\n",
    "    \n",
    "    # Extract units of time from the timestamp\n",
    "    df['min'] = df.index.minute\n",
    "    df['hour'] = df.index.hour\n",
    "    df['wday'] = df.index.dayofweek\n",
    "    df['mday'] = df.index.day - 1\n",
    "    df['yday'] = df.index.dayofyear - 1\n",
    "    df['month'] = df.index.month - 1\n",
    "    df['year'] = df.index.year\n",
    "    \n",
    "    # Create a time of day to represent hours and minutes\n",
    "    df['time'] = df['hour'] + (df['min'] / 60)\n",
    "    df = df.drop(columns=['hour', 'min'])\n",
    "    \n",
    "    # Cyclical variable transformations\n",
    "    \n",
    "    # wday has period of 6\n",
    "    df['wday_sin'] = np.sin(2 * np.pi * df['wday'] / 6)\n",
    "    df['wday_cos'] = np.cos(2 * np.pi * df['wday'] / 6)\n",
    "    \n",
    "    # yday has period of 365\n",
    "    df['yday_sin'] = np.sin(2 * np.pi * df['yday'] / 364)\n",
    "    df['yday_cos'] = np.cos(2 * np.pi * df['yday'] / 364)\n",
    "    \n",
    "    # month has period of 12\n",
    "    df['month_sin'] = np.sin(2 * np.pi * df['month'] / 12)\n",
    "    df['month_cos'] = np.cos(2 * np.pi * df['month'] / 12)\n",
    "    \n",
    "    # time has period of 24\n",
    "    df['time_sin'] = np.sin(2 * np.pi * df['time'] / 23)\n",
    "    df['time_cos'] = np.cos(2 * np.pi * df['time'] / 23)\n",
    "    \n",
    "    df['past_hour_load_1'] = df['Generation'].shift(-1)\n",
    "    df['past_hour_load_2'] = df['Generation'].shift(-2)\n",
    "    df['past_hour_load_3'] = df['Generation'].shift(-3)\n",
    "    df['past_hour_load_4'] = df['Generation'].shift(-4)\n",
    "    df['past_hour_load_5'] = df['Generation'].shift(-5)\n",
    "    df['past_hour_load_6'] = df['Generation'].shift(-6)\n",
    "    df['past_hour_load_7'] = df['consumption_rate'].shift(-7)\n",
    "    df['past_hour_load_8'] = df['consumption_rate'].shift(-8)\n",
    "    df['past_hour_load_9'] = df['consumption_rate'].shift(-9)\n",
    "    df['past_hour_load_10'] = df['consumption_rate'].shift(-10)\n",
    "    df['past_hour_load_11'] = df['consumption_rate'].shift(-11)\n",
    "    df['past_hour_load_12'] = df['consumption_rate'].shift(-12)\n",
    "    \n",
    "    # turn the index into a column\n",
    "    #df = df.reset_index(level=0)\n",
    "    \n",
    "    return df\n",
    "  \n",
    "    \n",
    "def is_df_missing_steps(df, freq='1H'):\n",
    "    index_steps = df.index\n",
    "    start = df.index[0]\n",
    "    end = df.index[-1]\n",
    "    dt_series = pd.date_range(start=start, end= end, freq = freq)\n",
    "    return not dt_series.equals(index_steps)\n",
    "\n",
    "def get_missing_steps(df, freq='1H'):\n",
    "    index_steps = df.index\n",
    "    start = df.index[0]\n",
    "    end = df.index[-1]\n",
    "    dt_series = pd.date_range(start=start, end= end, freq=freq)\n",
    "    return dt_series.difference(index_steps)"
   ]
  },
  {
   "cell_type": "code",
   "execution_count": null,
   "metadata": {},
   "outputs": [],
   "source": []
  },
  {
   "cell_type": "raw",
   "metadata": {},
   "source": []
  },
  {
   "cell_type": "code",
   "execution_count": 9,
   "metadata": {},
   "outputs": [],
   "source": [
    "id_vars = ['Time_step','Date','Year','Month','Day','Hour']\n",
    "data_tall = pd.melt(data_xlsx, id_vars=id_vars, var_name='Country', value_name='Generation')"
   ]
  },
  {
   "cell_type": "code",
   "execution_count": 10,
   "metadata": {},
   "outputs": [],
   "source": [
    "data_xlsx.set_index('Date', inplace=True)"
   ]
  },
  {
   "cell_type": "code",
   "execution_count": 11,
   "metadata": {
    "scrolled": true
   },
   "outputs": [
    {
     "data": {
      "text/html": [
       "<div>\n",
       "<style scoped>\n",
       "    .dataframe tbody tr th:only-of-type {\n",
       "        vertical-align: middle;\n",
       "    }\n",
       "\n",
       "    .dataframe tbody tr th {\n",
       "        vertical-align: top;\n",
       "    }\n",
       "\n",
       "    .dataframe thead th {\n",
       "        text-align: right;\n",
       "    }\n",
       "</style>\n",
       "<table border=\"1\" class=\"dataframe\">\n",
       "  <thead>\n",
       "    <tr style=\"text-align: right;\">\n",
       "      <th></th>\n",
       "      <th>Time_step</th>\n",
       "      <th>Year</th>\n",
       "      <th>Month</th>\n",
       "      <th>Day</th>\n",
       "      <th>Hour</th>\n",
       "      <th>Country</th>\n",
       "      <th>Generation</th>\n",
       "    </tr>\n",
       "    <tr>\n",
       "      <th>Date</th>\n",
       "      <th></th>\n",
       "      <th></th>\n",
       "      <th></th>\n",
       "      <th></th>\n",
       "      <th></th>\n",
       "      <th></th>\n",
       "      <th></th>\n",
       "    </tr>\n",
       "  </thead>\n",
       "  <tbody>\n",
       "    <tr>\n",
       "      <th>1986-01-01 00:00:00</th>\n",
       "      <td>1</td>\n",
       "      <td>1986</td>\n",
       "      <td>1</td>\n",
       "      <td>1</td>\n",
       "      <td>0</td>\n",
       "      <td>AL</td>\n",
       "      <td>0.0</td>\n",
       "    </tr>\n",
       "    <tr>\n",
       "      <th>1986-01-01 01:00:00</th>\n",
       "      <td>2</td>\n",
       "      <td>1986</td>\n",
       "      <td>1</td>\n",
       "      <td>1</td>\n",
       "      <td>1</td>\n",
       "      <td>AL</td>\n",
       "      <td>0.0</td>\n",
       "    </tr>\n",
       "    <tr>\n",
       "      <th>1986-01-01 02:00:00</th>\n",
       "      <td>3</td>\n",
       "      <td>1986</td>\n",
       "      <td>1</td>\n",
       "      <td>1</td>\n",
       "      <td>2</td>\n",
       "      <td>AL</td>\n",
       "      <td>0.0</td>\n",
       "    </tr>\n",
       "    <tr>\n",
       "      <th>1986-01-01 03:00:00</th>\n",
       "      <td>4</td>\n",
       "      <td>1986</td>\n",
       "      <td>1</td>\n",
       "      <td>1</td>\n",
       "      <td>3</td>\n",
       "      <td>AL</td>\n",
       "      <td>0.0</td>\n",
       "    </tr>\n",
       "    <tr>\n",
       "      <th>1986-01-01 04:00:00</th>\n",
       "      <td>5</td>\n",
       "      <td>1986</td>\n",
       "      <td>1</td>\n",
       "      <td>1</td>\n",
       "      <td>4</td>\n",
       "      <td>AL</td>\n",
       "      <td>0.0</td>\n",
       "    </tr>\n",
       "  </tbody>\n",
       "</table>\n",
       "</div>"
      ],
      "text/plain": [
       "                     Time_step  Year  Month  Day  Hour Country  Generation\n",
       "Date                                                                      \n",
       "1986-01-01 00:00:00          1  1986      1    1     0      AL         0.0\n",
       "1986-01-01 01:00:00          2  1986      1    1     1      AL         0.0\n",
       "1986-01-01 02:00:00          3  1986      1    1     2      AL         0.0\n",
       "1986-01-01 03:00:00          4  1986      1    1     3      AL         0.0\n",
       "1986-01-01 04:00:00          5  1986      1    1     4      AL         0.0"
      ]
     },
     "execution_count": 11,
     "metadata": {},
     "output_type": "execute_result"
    }
   ],
   "source": [
    "data_tall.set_index('Date', inplace=True)\n",
    "data_tall.head()"
   ]
  },
  {
   "cell_type": "code",
   "execution_count": null,
   "metadata": {},
   "outputs": [],
   "source": []
  },
  {
   "cell_type": "code",
   "execution_count": 12,
   "metadata": {},
   "outputs": [
    {
     "data": {
      "text/plain": [
       "False"
      ]
     },
     "execution_count": 12,
     "metadata": {},
     "output_type": "execute_result"
    }
   ],
   "source": [
    "is_df_missing_steps(data_xlsx)"
   ]
  },
  {
   "cell_type": "code",
   "execution_count": 13,
   "metadata": {},
   "outputs": [
    {
     "data": {
      "text/plain": [
       "DatetimeIndex([], dtype='datetime64[ns]', freq='H')"
      ]
     },
     "execution_count": 13,
     "metadata": {},
     "output_type": "execute_result"
    }
   ],
   "source": [
    "get_missing_steps(data_xlsx)"
   ]
  },
  {
   "cell_type": "code",
   "execution_count": 14,
   "metadata": {},
   "outputs": [
    {
     "data": {
      "text/plain": [
       "0"
      ]
     },
     "execution_count": 14,
     "metadata": {},
     "output_type": "execute_result"
    }
   ],
   "source": [
    "data_xlsx.isna().any(axis=1).sum()"
   ]
  },
  {
   "cell_type": "code",
   "execution_count": 15,
   "metadata": {},
   "outputs": [
    {
     "data": {
      "text/html": [
       "<div>\n",
       "<style scoped>\n",
       "    .dataframe tbody tr th:only-of-type {\n",
       "        vertical-align: middle;\n",
       "    }\n",
       "\n",
       "    .dataframe tbody tr th {\n",
       "        vertical-align: top;\n",
       "    }\n",
       "\n",
       "    .dataframe thead th {\n",
       "        text-align: right;\n",
       "    }\n",
       "</style>\n",
       "<table border=\"1\" class=\"dataframe\">\n",
       "  <thead>\n",
       "    <tr style=\"text-align: right;\">\n",
       "      <th></th>\n",
       "      <th>Time_step</th>\n",
       "      <th>Year</th>\n",
       "      <th>Month</th>\n",
       "      <th>Day</th>\n",
       "      <th>Hour</th>\n",
       "      <th>AL</th>\n",
       "      <th>AT</th>\n",
       "      <th>BA</th>\n",
       "      <th>BE</th>\n",
       "      <th>BG</th>\n",
       "      <th>...</th>\n",
       "      <th>NO</th>\n",
       "      <th>PL</th>\n",
       "      <th>PT</th>\n",
       "      <th>RO</th>\n",
       "      <th>RS</th>\n",
       "      <th>SI</th>\n",
       "      <th>SK</th>\n",
       "      <th>SE</th>\n",
       "      <th>XK</th>\n",
       "      <th>UK</th>\n",
       "    </tr>\n",
       "    <tr>\n",
       "      <th>Date</th>\n",
       "      <th></th>\n",
       "      <th></th>\n",
       "      <th></th>\n",
       "      <th></th>\n",
       "      <th></th>\n",
       "      <th></th>\n",
       "      <th></th>\n",
       "      <th></th>\n",
       "      <th></th>\n",
       "      <th></th>\n",
       "      <th></th>\n",
       "      <th></th>\n",
       "      <th></th>\n",
       "      <th></th>\n",
       "      <th></th>\n",
       "      <th></th>\n",
       "      <th></th>\n",
       "      <th></th>\n",
       "      <th></th>\n",
       "      <th></th>\n",
       "      <th></th>\n",
       "    </tr>\n",
       "  </thead>\n",
       "  <tbody>\n",
       "    <tr>\n",
       "      <th>1986-01-01 00:00:00</th>\n",
       "      <td>1</td>\n",
       "      <td>1986</td>\n",
       "      <td>1</td>\n",
       "      <td>1</td>\n",
       "      <td>0</td>\n",
       "      <td>0.0</td>\n",
       "      <td>0.0</td>\n",
       "      <td>0.0</td>\n",
       "      <td>0.0</td>\n",
       "      <td>0.0</td>\n",
       "      <td>...</td>\n",
       "      <td>0.0</td>\n",
       "      <td>0.0</td>\n",
       "      <td>0.0</td>\n",
       "      <td>0.0</td>\n",
       "      <td>0.0</td>\n",
       "      <td>0.0</td>\n",
       "      <td>0.0</td>\n",
       "      <td>0.0</td>\n",
       "      <td>0.0</td>\n",
       "      <td>0.0</td>\n",
       "    </tr>\n",
       "    <tr>\n",
       "      <th>1986-01-01 01:00:00</th>\n",
       "      <td>2</td>\n",
       "      <td>1986</td>\n",
       "      <td>1</td>\n",
       "      <td>1</td>\n",
       "      <td>1</td>\n",
       "      <td>0.0</td>\n",
       "      <td>0.0</td>\n",
       "      <td>0.0</td>\n",
       "      <td>0.0</td>\n",
       "      <td>0.0</td>\n",
       "      <td>...</td>\n",
       "      <td>0.0</td>\n",
       "      <td>0.0</td>\n",
       "      <td>0.0</td>\n",
       "      <td>0.0</td>\n",
       "      <td>0.0</td>\n",
       "      <td>0.0</td>\n",
       "      <td>0.0</td>\n",
       "      <td>0.0</td>\n",
       "      <td>0.0</td>\n",
       "      <td>0.0</td>\n",
       "    </tr>\n",
       "    <tr>\n",
       "      <th>1986-01-01 02:00:00</th>\n",
       "      <td>3</td>\n",
       "      <td>1986</td>\n",
       "      <td>1</td>\n",
       "      <td>1</td>\n",
       "      <td>2</td>\n",
       "      <td>0.0</td>\n",
       "      <td>0.0</td>\n",
       "      <td>0.0</td>\n",
       "      <td>0.0</td>\n",
       "      <td>0.0</td>\n",
       "      <td>...</td>\n",
       "      <td>0.0</td>\n",
       "      <td>0.0</td>\n",
       "      <td>0.0</td>\n",
       "      <td>0.0</td>\n",
       "      <td>0.0</td>\n",
       "      <td>0.0</td>\n",
       "      <td>0.0</td>\n",
       "      <td>0.0</td>\n",
       "      <td>0.0</td>\n",
       "      <td>0.0</td>\n",
       "    </tr>\n",
       "    <tr>\n",
       "      <th>1986-01-01 03:00:00</th>\n",
       "      <td>4</td>\n",
       "      <td>1986</td>\n",
       "      <td>1</td>\n",
       "      <td>1</td>\n",
       "      <td>3</td>\n",
       "      <td>0.0</td>\n",
       "      <td>0.0</td>\n",
       "      <td>0.0</td>\n",
       "      <td>0.0</td>\n",
       "      <td>0.0</td>\n",
       "      <td>...</td>\n",
       "      <td>0.0</td>\n",
       "      <td>0.0</td>\n",
       "      <td>0.0</td>\n",
       "      <td>0.0</td>\n",
       "      <td>0.0</td>\n",
       "      <td>0.0</td>\n",
       "      <td>0.0</td>\n",
       "      <td>0.0</td>\n",
       "      <td>0.0</td>\n",
       "      <td>0.0</td>\n",
       "    </tr>\n",
       "    <tr>\n",
       "      <th>1986-01-01 04:00:00</th>\n",
       "      <td>5</td>\n",
       "      <td>1986</td>\n",
       "      <td>1</td>\n",
       "      <td>1</td>\n",
       "      <td>4</td>\n",
       "      <td>0.0</td>\n",
       "      <td>0.0</td>\n",
       "      <td>0.0</td>\n",
       "      <td>0.0</td>\n",
       "      <td>0.0</td>\n",
       "      <td>...</td>\n",
       "      <td>0.0</td>\n",
       "      <td>0.0</td>\n",
       "      <td>0.0</td>\n",
       "      <td>0.0</td>\n",
       "      <td>0.0</td>\n",
       "      <td>0.0</td>\n",
       "      <td>0.0</td>\n",
       "      <td>0.0</td>\n",
       "      <td>0.0</td>\n",
       "      <td>0.0</td>\n",
       "    </tr>\n",
       "  </tbody>\n",
       "</table>\n",
       "<p>5 rows × 40 columns</p>\n",
       "</div>"
      ],
      "text/plain": [
       "                     Time_step  Year  Month  Day  Hour   AL   AT   BA   BE  \\\n",
       "Date                                                                         \n",
       "1986-01-01 00:00:00          1  1986      1    1     0  0.0  0.0  0.0  0.0   \n",
       "1986-01-01 01:00:00          2  1986      1    1     1  0.0  0.0  0.0  0.0   \n",
       "1986-01-01 02:00:00          3  1986      1    1     2  0.0  0.0  0.0  0.0   \n",
       "1986-01-01 03:00:00          4  1986      1    1     3  0.0  0.0  0.0  0.0   \n",
       "1986-01-01 04:00:00          5  1986      1    1     4  0.0  0.0  0.0  0.0   \n",
       "\n",
       "                      BG  ...   NO   PL   PT   RO   RS   SI   SK   SE   XK  \\\n",
       "Date                      ...                                                \n",
       "1986-01-01 00:00:00  0.0  ...  0.0  0.0  0.0  0.0  0.0  0.0  0.0  0.0  0.0   \n",
       "1986-01-01 01:00:00  0.0  ...  0.0  0.0  0.0  0.0  0.0  0.0  0.0  0.0  0.0   \n",
       "1986-01-01 02:00:00  0.0  ...  0.0  0.0  0.0  0.0  0.0  0.0  0.0  0.0  0.0   \n",
       "1986-01-01 03:00:00  0.0  ...  0.0  0.0  0.0  0.0  0.0  0.0  0.0  0.0  0.0   \n",
       "1986-01-01 04:00:00  0.0  ...  0.0  0.0  0.0  0.0  0.0  0.0  0.0  0.0  0.0   \n",
       "\n",
       "                      UK  \n",
       "Date                      \n",
       "1986-01-01 00:00:00  0.0  \n",
       "1986-01-01 01:00:00  0.0  \n",
       "1986-01-01 02:00:00  0.0  \n",
       "1986-01-01 03:00:00  0.0  \n",
       "1986-01-01 04:00:00  0.0  \n",
       "\n",
       "[5 rows x 40 columns]"
      ]
     },
     "execution_count": 15,
     "metadata": {},
     "output_type": "execute_result"
    }
   ],
   "source": [
    "data_xlsx.head()"
   ]
  },
  {
   "cell_type": "code",
   "execution_count": 16,
   "metadata": {},
   "outputs": [
    {
     "data": {
      "text/plain": [
       "['ME',\n",
       " 'XK',\n",
       " 'EL',\n",
       " 'FI',\n",
       " 'CZ',\n",
       " 'BG',\n",
       " 'BE',\n",
       " 'ES',\n",
       " 'DE',\n",
       " 'CH',\n",
       " 'SK',\n",
       " 'PT',\n",
       " 'RS',\n",
       " 'RO',\n",
       " 'HR',\n",
       " 'SE',\n",
       " 'IT',\n",
       " 'DK',\n",
       " 'LT',\n",
       " 'LU',\n",
       " 'EE',\n",
       " 'SI',\n",
       " 'MK',\n",
       " 'FR',\n",
       " 'IE',\n",
       " 'BA',\n",
       " 'HU',\n",
       " 'CY',\n",
       " 'PL',\n",
       " 'NO',\n",
       " 'UK',\n",
       " 'AT',\n",
       " 'AL',\n",
       " 'LV',\n",
       " 'NL']"
      ]
     },
     "execution_count": 16,
     "metadata": {},
     "output_type": "execute_result"
    }
   ],
   "source": [
    "\n",
    "\n",
    "target_cols = list(set(data_xlsx.columns) - set(['Time_step','Year','Month','Day','Hour']))\n",
    "target_cols"
   ]
  },
  {
   "cell_type": "code",
   "execution_count": 17,
   "metadata": {},
   "outputs": [],
   "source": [
    "from gluonts.dataset.field_names import FieldName"
   ]
  },
  {
   "cell_type": "code",
   "execution_count": 18,
   "metadata": {},
   "outputs": [],
   "source": [
    "from gluonts.distribution.distribution_output import DistributionOutput\n",
    "from gluonts.distribution.gaussian import GaussianOutput"
   ]
  },
  {
   "cell_type": "code",
   "execution_count": 19,
   "metadata": {},
   "outputs": [],
   "source": [
    "from gluonts.dataset.common import ListDataset"
   ]
  },
  {
   "cell_type": "code",
   "execution_count": 20,
   "metadata": {},
   "outputs": [],
   "source": [
    "train_ds = ListDataset([{\n",
    "    FieldName.TARGET: data_xlsx[:-365][target_cols].to_numpy(),\n",
    "    FieldName.START: data_xlsx.index[0],\n",
    "    FieldName.FEAT_DYNAMIC_REAL: data_xlsx[:-365][['Year', 'Month', 'Day', 'Hour']].to_numpy()\n",
    "    \n",
    "}],\n",
    "        freq = '1H',\n",
    "        one_dim_target=False)"
   ]
  },
  {
   "cell_type": "code",
   "execution_count": null,
   "metadata": {},
   "outputs": [],
   "source": []
  },
  {
   "cell_type": "code",
   "execution_count": 21,
   "metadata": {},
   "outputs": [
    {
     "data": {
      "text/plain": [
       "array([[1986,    1,    1,    0],\n",
       "       [1986,    1,    1,    1],\n",
       "       [1986,    1,    1,    2],\n",
       "       ...,\n",
       "       [2015,   12,   16,   16],\n",
       "       [2015,   12,   16,   17],\n",
       "       [2015,   12,   16,   18]])"
      ]
     },
     "execution_count": 21,
     "metadata": {},
     "output_type": "execute_result"
    }
   ],
   "source": [
    "data_xlsx[:-365][['Year', 'Month', 'Day', 'Hour']].to_numpy()"
   ]
  },
  {
   "cell_type": "code",
   "execution_count": 22,
   "metadata": {},
   "outputs": [
    {
     "name": "stderr",
     "output_type": "stream",
     "text": [
      "INFO:root:Using CPU\n"
     ]
    }
   ],
   "source": [
    "from gluonts.model.deepar import DeepAREstimator\n",
    "from gluonts.trainer import Trainer"
   ]
  },
  {
   "cell_type": "code",
   "execution_count": 23,
   "metadata": {},
   "outputs": [
    {
     "name": "stderr",
     "output_type": "stream",
     "text": [
      "INFO:root:Using CPU\n"
     ]
    }
   ],
   "source": [
    "estimator = DeepAREstimator(freq=\"1H\", prediction_length=24,context_length = 4*7*24, distr_output=GaussianOutput(), trainer=Trainer(epochs=10), num_layers = 4)"
   ]
  },
  {
   "cell_type": "code",
   "execution_count": null,
   "metadata": {},
   "outputs": [
    {
     "name": "stderr",
     "output_type": "stream",
     "text": [
      "INFO:root:Start model training\n",
      "INFO:root:Epoch[0] Learning rate is 0.001\n",
      "  0%|          | 0/50 [00:00<?, ?it/s]"
     ]
    }
   ],
   "source": [
    "predictor = estimator.train(training_data=train_ds)"
   ]
  },
  {
   "cell_type": "code",
   "execution_count": null,
   "metadata": {},
   "outputs": [],
   "source": []
  }
 ],
 "metadata": {
  "kernelspec": {
   "display_name": "Python 3",
   "language": "python",
   "name": "python3"
  },
  "language_info": {
   "codemirror_mode": {
    "name": "ipython",
    "version": 3
   },
   "file_extension": ".py",
   "mimetype": "text/x-python",
   "name": "python",
   "nbconvert_exporter": "python",
   "pygments_lexer": "ipython3",
   "version": "3.6.9"
  }
 },
 "nbformat": 4,
 "nbformat_minor": 2
}
